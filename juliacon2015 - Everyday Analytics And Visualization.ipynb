{
 "cells": [
  {
   "cell_type": "markdown",
   "metadata": {
    "internals": {
     "slide_helper": "subslide_end",
     "slide_type": "subslide"
    },
    "slide_helper": "slide_end",
    "slideshow": {
     "slide_type": "slide"
    }
   },
   "source": [
    "<img style=\"float: left\" src=\"julia.png\">\n",
    "<br><br><br><br><br>\n",
    "### Everyday Analytics And Visualization<br><br>\n",
    "####Analyzing citibike NYC data\n",
    "JuliaCon 2015: June 27, 2015<br>\n",
    "Massachusetts Institute of Technology\n",
    "***\n",
    "Randy Zwitch <br>\n",
    "[@randyzwitch](https://twitter.com/randyzwitch)<br>\n",
    "http://randyzwitch.com <br>\n",
    "https://github.com/randyzwitch/juliacon2015\n",
    "<br>\n",
    "<br>\n",
    "<br>\n",
    "<br>"
   ]
  },
  {
   "cell_type": "markdown",
   "metadata": {
    "internals": {
     "slide_helper": "subslide_end",
     "slide_type": "subslide"
    },
    "slide_helper": "slide_end",
    "slideshow": {
     "slide_type": "slide"
    }
   },
   "source": [
    "##Agenda<br>  \n",
    "***\n",
    "###Using Julia and [citibike NYC Data](http://www.citibikenyc.com/system-data), demonstrate:<br>\n",
    "* Commonly-Used Syntax For Data Analysis <br>\n",
    "* Data Visualization<br>\n",
    "* Accessing Real-Time Web Data (time permitting)<br>"
   ]
  },
  {
   "cell_type": "markdown",
   "metadata": {
    "internals": {
     "frag_helper": "fragment_end",
     "frag_number": 18,
     "slide_helper": "subslide_end",
     "slide_type": "subslide"
    },
    "slide_helper": "slide_end",
    "slideshow": {
     "slide_type": "slide"
    }
   },
   "source": [
    "##citibike NYC\n",
    "***\n",
    "<img style=\"float: left\" src=\"citibike-stations.png\">\n",
    "http://www.citibikenyc.com/stations"
   ]
  },
  {
   "cell_type": "markdown",
   "metadata": {
    "internals": {
     "frag_helper": "fragment_end",
     "frag_number": 5,
     "slide_type": "subslide"
    },
    "slideshow": {
     "slide_type": "slide"
    }
   },
   "source": [
    "##Downloading/Unzipping Archived 2014 Data\n",
    "***"
   ]
  },
  {
   "cell_type": "code",
   "execution_count": null,
   "metadata": {
    "collapsed": false,
    "internals": {
     "frag_number": 5
    },
    "slideshow": {
     "slide_type": "fragment"
    }
   },
   "outputs": [],
   "source": [
    "#Loop over months, download 2014 history\n",
    "\n",
    "#Set working directory\n",
    "cd(\"/Users/randyzwitch/juliacon2015/data\")"
   ]
  },
  {
   "cell_type": "code",
   "execution_count": null,
   "metadata": {
    "collapsed": false,
    "internals": {
     "frag_helper": "fragment_end",
     "frag_number": 6,
     "slide_helper": "subslide_end"
    },
    "slide_helper": "slide_end",
    "slideshow": {
     "slide_type": "fragment"
    }
   },
   "outputs": [],
   "source": [
    "for month in 1:1:12\n",
    "    \n",
    "    #Pad with leading zero for single-digit ints\n",
    "    month = lpad(month, 2, \"0\")\n",
    "    \n",
    "    #Download zip files\n",
    "    #Calls cURL in background\n",
    "    #Use Requests.jl for more complex HTTP calls\n",
    "    download(\"https://s3.amazonaws.com/tripdata/2014$month-citibike-tripdata.zip\", \n",
    "             \"2014$month.zip\")\n",
    "end\n",
    "\n",
    "#Unzip all files using OSX Terminal command \n",
    "#Called from inside Julia\n",
    "run(`unzip -o -q \\*.zip`)"
   ]
  },
  {
   "cell_type": "code",
   "execution_count": null,
   "metadata": {
    "collapsed": false,
    "internals": {
     "frag_helper": "fragment_end",
     "frag_number": 6,
     "slide_type": "subslide"
    },
    "slideshow": {
     "slide_type": "slide"
    }
   },
   "outputs": [],
   "source": [
    "#Load dataframes library, create df with 2014 data\n",
    "using DataFrames"
   ]
  },
  {
   "cell_type": "code",
   "execution_count": null,
   "metadata": {
    "collapsed": false,
    "internals": {
     "frag_helper": "fragment_end",
     "frag_number": 8
    },
    "slideshow": {
     "slide_type": "fragment"
    }
   },
   "outputs": [],
   "source": [
    "#Get file list, filtering by files having .csv extension\n",
    "csvfiles = filter(x -> contains(x, \".csv\"), readdir(pwd()))"
   ]
  },
  {
   "cell_type": "code",
   "execution_count": null,
   "metadata": {
    "collapsed": false,
    "internals": {
     "frag_helper": "fragment_end",
     "frag_number": 9
    },
    "slideshow": {
     "slide_type": "fragment"
    }
   },
   "outputs": [],
   "source": [
    "#Takes 5 minutes or so to load/concatenate\n",
    "#Faster method would be to `cat` the files from Terminal first\n",
    "#to avoid memory swap\n",
    "df = DataFrame()        \n",
    "for fileloc in csvfiles        \n",
    "    df = vcat(df, readtable(fileloc))  \n",
    "end"
   ]
  },
  {
   "cell_type": "code",
   "execution_count": null,
   "metadata": {
    "collapsed": false,
    "internals": {
     "frag_helper": "fragment_end",
     "frag_number": 10,
     "slide_helper": "subslide_end"
    },
    "slide_helper": "slide_end",
    "slideshow": {
     "slide_type": "fragment"
    }
   },
   "outputs": [],
   "source": [
    "#How big is the resulting dataframe?\n",
    "size(df)                                  "
   ]
  },
  {
   "cell_type": "markdown",
   "metadata": {
    "internals": {
     "frag_helper": "fragment_end",
     "frag_number": 10,
     "slide_type": "subslide"
    },
    "slideshow": {
     "slide_type": "slide"
    }
   },
   "source": [
    "##Exploring Dataset\n",
    "***"
   ]
  },
  {
   "cell_type": "code",
   "execution_count": null,
   "metadata": {
    "collapsed": false,
    "internals": {
     "frag_helper": "fragment_end",
     "frag_number": 12,
     "slide_helper": "subslide_end"
    },
    "slide_helper": "subslide_end",
    "slideshow": {
     "slide_type": "fragment"
    }
   },
   "outputs": [],
   "source": [
    "#See dataset columns\n",
    "names(df)"
   ]
  },
  {
   "cell_type": "code",
   "execution_count": null,
   "metadata": {
    "collapsed": false,
    "internals": {
     "frag_helper": "fragment_end",
     "frag_number": 12,
     "slide_helper": "subslide_end",
     "slide_type": "subslide"
    },
    "slide_helper": "subslide_end",
    "slideshow": {
     "slide_type": "subslide"
    }
   },
   "outputs": [],
   "source": [
    "#See dataset structure\n",
    "#Just first four columns for display purposes\n",
    "head(df[:, 1:4])"
   ]
  },
  {
   "cell_type": "code",
   "execution_count": null,
   "metadata": {
    "collapsed": false,
    "internals": {
     "frag_helper": "fragment_end",
     "frag_number": 12,
     "slide_type": "subslide"
    },
    "slideshow": {
     "slide_type": "subslide"
    }
   },
   "outputs": [],
   "source": [
    "#Can do summary statistics on whole dataframe\n",
    "#Usually doesn't make sense to do this\n",
    "describe(df) "
   ]
  },
  {
   "cell_type": "code",
   "execution_count": null,
   "metadata": {
    "collapsed": false,
    "internals": {
     "frag_helper": "fragment_end",
     "frag_number": 15,
     "slide_helper": "subslide_end"
    },
    "slide_helper": "slide_end",
    "slideshow": {
     "slide_type": "fragment"
    }
   },
   "outputs": [],
   "source": [
    "#Can do summary statistics by column \n",
    "describe(df[:tripduration])"
   ]
  },
  {
   "cell_type": "markdown",
   "metadata": {
    "internals": {
     "frag_helper": "fragment_end",
     "frag_number": 15,
     "slide_helper": "subslide_end",
     "slide_type": "subslide"
    },
    "slide_helper": "slide_end",
    "slideshow": {
     "slide_type": "slide"
    }
   },
   "source": [
    "##Data Visualization\n",
    "***\n",
    "There are numerous visualization libraries in Julia:\n",
    "<br>\n",
    "* [Gadfly](http://gadflyjl.org/index.html) (similar to ggplot, based on Grammar of Graphics)\n",
    "* [Vega](https://github.com/johnmyleswhite/Vega.jl) (Vega.js wrapper)\n",
    "* [Plotly](https://plot.ly/julia/) (API Interface using JSON)\n",
    "* [Bokeh](http://bokeh.github.io/Bokeh.jl/) (Bindings for Continuum Python library)\n",
    "* [Winston](http://winston.readthedocs.org/en/latest/) (similar to Base R graphics)\n",
    "* [Gaston](https://github.com/mbaz/Gaston.jl) (Julia Wrapper of gnuplot)\n",
    "* [PyPlot](https://github.com/stevengj/PyPlot.jl) (Julia wrapper of matplotlib.pyplot)\n",
    "* [ASCIIPlots](https://github.com/johnmyleswhite/ASCIIPlots.jl) (Plain-text charts)\n",
    "* [GoogleCharts](https://github.com/jverzani/GoogleCharts.jl) (Julia wrapper of API)"
   ]
  },
  {
   "cell_type": "markdown",
   "metadata": {
    "internals": {
     "frag_helper": "fragment_end",
     "frag_number": 15,
     "slide_type": "subslide"
    },
    "slideshow": {
     "slide_type": "slide"
    }
   },
   "source": [
    "##Business Questions To Visualize\n",
    "***"
   ]
  },
  {
   "cell_type": "markdown",
   "metadata": {
    "internals": {
     "frag_helper": "fragment_end",
     "frag_number": 18,
     "slide_helper": "subslide_end"
    },
    "slide_helper": "slide_end",
    "slideshow": {
     "slide_type": "fragment"
    }
   },
   "source": [
    "1. How did overall ridership change month-to-month in 2014?\n",
    "2. Do the duration of rides vary per month?\n",
    "3. Do men/women participate differently in the rideshare program? Does age matter?"
   ]
  },
  {
   "cell_type": "markdown",
   "metadata": {
    "internals": {
     "frag_helper": "fragment_end",
     "frag_number": 18,
     "slide_type": "subslide"
    },
    "slideshow": {
     "slide_type": "slide"
    }
   },
   "source": [
    "###How did overall ridership change month-to-month in 2014?"
   ]
  },
  {
   "cell_type": "code",
   "execution_count": null,
   "metadata": {
    "collapsed": false,
    "internals": {
     "frag_helper": "fragment_end",
     "frag_number": 20,
     "slide_helper": "subslide_end"
    },
    "slide_helper": "slide_end",
    "slideshow": {
     "slide_type": "fragment"
    }
   },
   "outputs": [],
   "source": [
    "#Load Gadfly library\n",
    "using Gadfly\n",
    "\n",
    "#Calculate rides per month\n",
    "#Define function since timestamp format changes between files\n",
    "function dateparse(d::String)\n",
    "    if typeof(match(r\"[-]\", d)) != Nothing \n",
    "        return d[6:7]\n",
    "    elseif d[2] == '/'\n",
    "        return string(\"0\", d[1])\n",
    "    else\n",
    "        return d[1:2]\n",
    "    end\n",
    "end\n",
    "\n",
    "#Add month column\n",
    "df[:month] = ASCIIString[dateparse(x) for x in df[:starttime]]\n",
    "\n",
    "#Add random number for sampling\n",
    "df[:rand] = Float64[rand() for x in df[:tripduration]];"
   ]
  },
  {
   "cell_type": "code",
   "execution_count": null,
   "metadata": {
    "collapsed": false,
    "internals": {
     "frag_helper": "fragment_end",
     "frag_number": 20,
     "slide_helper": "subslide_end",
     "slide_type": "subslide"
    },
    "slide_helper": "slide_end",
    "slideshow": {
     "slide_type": "slide"
    }
   },
   "outputs": [],
   "source": [
    "#Count number of rides per month\n",
    "#size(x, 1) counts the records along the '1' (row) axis\n",
    "monthly_ride_counts = by(df, :month, \n",
    "                         x -> DataFrame(rides = size(x, 1)))"
   ]
  },
  {
   "cell_type": "code",
   "execution_count": null,
   "metadata": {
    "collapsed": false,
    "internals": {
     "frag_helper": "fragment_end",
     "frag_number": 20,
     "slide_helper": "subslide_end",
     "slide_type": "subslide"
    },
    "slide_helper": "slide_end",
    "slideshow": {
     "slide_type": "slide"
    }
   },
   "outputs": [],
   "source": [
    "#Set plot size in Notebook\n",
    "set_default_plot_size(20cm, 14cm)\n",
    "\n",
    "#Bar chart\n",
    "plot(monthly_ride_counts, x = \"month\", y = \"rides\", Geom.bar,\n",
    "     Guide.title(\"citibike NYC Rides Per Month - 2014\"),\n",
    "     Theme(default_color = color(\"navy blue\"), bar_spacing = 3mm),\n",
    "     Scale.y_continuous(format = :plain))"
   ]
  },
  {
   "cell_type": "markdown",
   "metadata": {
    "internals": {
     "frag_helper": "fragment_end",
     "frag_number": 20,
     "slide_type": "subslide"
    },
    "slideshow": {
     "slide_type": "slide"
    }
   },
   "source": [
    "###Does the duration of rides vary per month?"
   ]
  },
  {
   "cell_type": "code",
   "execution_count": null,
   "metadata": {
    "collapsed": false,
    "internals": {
     "frag_helper": "fragment_end",
     "frag_number": 24,
     "slide_helper": "subslide_end"
    },
    "slide_helper": "slide_end",
    "slideshow": {
     "slide_type": "fragment"
    }
   },
   "outputs": [],
   "source": [
    "#Set plot size in Notebook\n",
    "set_default_plot_size(20cm, 16cm)\n",
    "\n",
    "#Factor-level Boxplot\n",
    "#Plot 1% of points for time consideration\n",
    "plot(df[df[:rand] .< .01, :], x = \"month\", y = \"tripduration\", \n",
    "     Geom.boxplot,\n",
    "     Guide.title(\"citibike NYC - Trip Duration By Month\"),\n",
    "     Scale.y_continuous(format = :plain, minvalue = 0, maxvalue = 3600),\n",
    "     Theme(default_color = color(\"green\"))\n",
    "     ) "
   ]
  },
  {
   "cell_type": "markdown",
   "metadata": {
    "internals": {
     "frag_helper": "fragment_end",
     "frag_number": 24,
     "slide_type": "subslide"
    },
    "slideshow": {
     "slide_type": "slide"
    }
   },
   "source": [
    "###Do men/women participate differently in the rideshare program? Does age matter?"
   ]
  },
  {
   "cell_type": "code",
   "execution_count": null,
   "metadata": {
    "collapsed": false,
    "internals": {
     "frag_helper": "fragment_end",
     "frag_number": 26,
     "slide_helper": "subslide_end"
    },
    "slide_helper": "subslide_end",
    "slideshow": {
     "slide_type": "fragment"
    }
   },
   "outputs": [],
   "source": [
    "#Calculate avg duration by gender, birth year\n",
    "gender_age_duration = by(df, [:gender, :birth_year], \n",
    "                         x -> DataFrame(tripduration = mean(x[:tripduration]))) "
   ]
  },
  {
   "cell_type": "code",
   "execution_count": null,
   "metadata": {
    "collapsed": false,
    "slideshow": {
     "slide_type": "subslide"
    }
   },
   "outputs": [],
   "source": [
    "#Set plot size in Notebook\n",
    "set_default_plot_size(22cm, 12cm)\n",
    "\n",
    "#Label gender as characters instead of numbers\n",
    "function gender(x)\n",
    "    if x == 1\n",
    "        return \"male\"\n",
    "    elseif x == 2\n",
    "        return \"female\"\n",
    "    else\n",
    "        return \"unknown\"\n",
    "    end\n",
    "end\n",
    "\n",
    "gender_age_duration[:genderstr] = [gender(x) for x in gender_age_duration[:gender]]\n",
    "#Calculate Age\n",
    "function age(x) \n",
    "    try\n",
    "        return 2015 - int(x)\n",
    "    end\n",
    "end\n",
    "\n",
    "gender_age_duration[:age] = Float64[age(x) for x in gender_age_duration[:birth_year]];"
   ]
  },
  {
   "cell_type": "code",
   "execution_count": null,
   "metadata": {
    "collapsed": false,
    "internals": {
     "frag_helper": "fragment_end",
     "frag_number": 26,
     "slide_helper": "subslide_end",
     "slide_type": "subslide"
    },
    "slide_helper": "slide_end",
    "slideshow": {
     "slide_type": "subslide"
    }
   },
   "outputs": [],
   "source": [
    "#Scatterplot\n",
    "plot(gender_age_duration, x=\"age\", y=\"tripduration\", \n",
    "     color=\"genderstr\", \n",
    "     Geom.point,\n",
    "     Guide.title(\"citibike NYC - Trip Duration By Age By Gender\"),\n",
    "     Guide.xticks(ticks=[0:10:100]),\n",
    "     Guide.colorkey(\"gender\"),\n",
    "     Scale.x_continuous(minvalue=0, maxvalue=100),\n",
    "     Scale.y_continuous(minvalue=0, maxvalue=1500),\n",
    "     Scale.color_discrete_manual(\"dark gray\",\"navy\",\"pink\")\n",
    "     )"
   ]
  },
  {
   "cell_type": "markdown",
   "metadata": {
    "internals": {
     "frag_helper": "fragment_end",
     "frag_number": 26,
     "slide_type": "subslide"
    },
    "slideshow": {
     "slide_type": "slide"
    }
   },
   "source": [
    "##Accessing citibike NYC Real-Time Data\n",
    "***"
   ]
  },
  {
   "cell_type": "markdown",
   "metadata": {
    "internals": {
     "frag_helper": "fragment_end",
     "frag_number": 29,
     "slide_helper": "subslide_end"
    },
    "slide_helper": "slide_end",
    "slideshow": {
     "slide_type": "fragment"
    }
   },
   "source": [
    "citibike NYC provides real-time information about the number of bikes at each station, with data refreshed at every http call. Even better, this data is truly OPEN; the JSON feed is provided as a static URL, with no special credentials.\n",
    "\n",
    "In Julia, the [Requests.jl](https://github.com/JuliaWeb/Requests.jl) library is becoming the standard for making API calls; the [JSON.jl](https://github.com/JuliaLang/JSON.jl) library is how you parse the information returned (returned as JSON) from APIs.\n",
    "\n",
    "http://www.citibikenyc.com/stations/json"
   ]
  },
  {
   "cell_type": "code",
   "execution_count": null,
   "metadata": {
    "collapsed": false,
    "internals": {
     "frag_helper": "fragment_end",
     "frag_number": 29,
     "slide_type": "subslide"
    },
    "slideshow": {
     "slide_type": "slide"
    }
   },
   "outputs": [],
   "source": [
    "#Import libraries\n",
    "using Requests, JSON\n",
    "\n",
    "#Use Get Request to pull data\n",
    "r = get(\"http://www.citibikenyc.com/stations/json\")"
   ]
  },
  {
   "cell_type": "code",
   "execution_count": null,
   "metadata": {
    "collapsed": false,
    "internals": {
     "frag_helper": "fragment_end",
     "frag_number": 31,
     "slide_helper": "subslide_end"
    },
    "slide_helper": "subslide_end",
    "slideshow": {
     "slide_type": "fragment"
    }
   },
   "outputs": [],
   "source": [
    "#Requests library returns a Julia Composite Data type\n",
    "#Use dot syntax to get data field\n",
    "#JSON.parse takes a string, returns a Julia Dict\n",
    "citidata = JSON.parse(r.data)"
   ]
  },
  {
   "cell_type": "code",
   "execution_count": null,
   "metadata": {
    "collapsed": false,
    "internals": {
     "frag_helper": "fragment_end",
     "frag_number": 31,
     "slide_helper": "subslide_end",
     "slide_type": "subslide"
    },
    "slide_helper": "subslide_end",
    "slideshow": {
     "slide_type": "subslide"
    }
   },
   "outputs": [],
   "source": [
    "#Access the station list, find out how many stations there are\n",
    "size(citidata[\"stationBeanList\"]) "
   ]
  },
  {
   "cell_type": "code",
   "execution_count": null,
   "metadata": {
    "collapsed": false,
    "internals": {
     "frag_helper": "fragment_end",
     "frag_number": 31,
     "slide_helper": "subslide_end",
     "slide_type": "subslide"
    },
    "slide_helper": "slide_end",
    "slideshow": {
     "slide_type": "subslide"
    }
   },
   "outputs": [],
   "source": [
    "#Determine fields in dataset using first array element\n",
    "collect(keys(citidata[\"stationBeanList\"][1]))"
   ]
  },
  {
   "cell_type": "markdown",
   "metadata": {
    "internals": {
     "frag_helper": "fragment_end",
     "frag_number": 31,
     "slide_helper": "subslide_end",
     "slide_type": "subslide"
    },
    "slide_helper": "subslide_end",
    "slideshow": {
     "slide_type": "slide"
    }
   },
   "source": [
    "##Top 10 Stations Having Bikes\n",
    "***"
   ]
  },
  {
   "cell_type": "code",
   "execution_count": null,
   "metadata": {
    "collapsed": false,
    "internals": {
     "frag_helper": "fragment_end",
     "frag_number": 31,
     "slide_helper": "subslide_end",
     "slide_type": "subslide"
    },
    "slide_helper": "subslide_end",
    "slideshow": {
     "slide_type": "subslide"
    }
   },
   "outputs": [],
   "source": [
    "#Iterate over JSON, get station/location/available bikes\n",
    "#Exclamation point on push! indicates mutating list object directly\n",
    "station_name = ASCIIString[]\n",
    "staddress = ASCIIString[]\n",
    "available = Int[]\n",
    "totaldocks = Int[]\n",
    "lat = Float64[]\n",
    "lon = Float64[]\n",
    "\n",
    "for element in citidata[\"stationBeanList\"]\n",
    "    push!(station_name, element[\"stationName\"])\n",
    "    push!(staddress, element[\"stAddress1\"])\n",
    "    push!(available, element[\"availableBikes\"])\n",
    "    push!(totaldocks, element[\"totalDocks\"])\n",
    "    push!(lat, element[\"latitude\"])\n",
    "    push!(lon, element[\"longitude\"])\n",
    "end"
   ]
  },
  {
   "cell_type": "code",
   "execution_count": null,
   "metadata": {
    "collapsed": false,
    "internals": {
     "frag_helper": "fragment_end",
     "frag_number": 31,
     "slide_helper": "subslide_end",
     "slide_type": "subslide"
    },
    "slide_helper": "slide_end",
    "slideshow": {
     "slide_type": "subslide"
    }
   },
   "outputs": [],
   "source": [
    "#Concatenate arrays, convert to DataFrame\n",
    "citiparsed = DataFrame()\n",
    "\n",
    "citiparsed[:station] = station_name\n",
    "citiparsed[:availablebikes] = available\n",
    "citiparsed[:totaldocks] = totaldocks\n",
    "citiparsed[:pctremain] = citiparsed[:availablebikes] ./ citiparsed[:totaldocks]\n",
    "citiparsed[:lat] = lat\n",
    "citiparsed[:lon] = lon;"
   ]
  },
  {
   "cell_type": "code",
   "execution_count": null,
   "metadata": {
    "collapsed": false,
    "internals": {
     "frag_helper": "fragment_end",
     "frag_number": 31,
     "slide_helper": "subslide_end",
     "slide_type": "subslide"
    },
    "slide_helper": "slide_end",
    "slideshow": {
     "slide_type": "slide"
    }
   },
   "outputs": [],
   "source": [
    "#Exclamation on sort! means dataframe remains sorted (gets mutated)\n",
    "sort!(citiparsed, cols = [order(:availablebikes, rev = true)])\n",
    "tbl = head(citiparsed, 10)"
   ]
  },
  {
   "cell_type": "markdown",
   "metadata": {
    "slideshow": {
     "slide_type": "slide"
    }
   },
   "source": [
    "##\"Real-Time\" Map of Bike Availability\n",
    "***"
   ]
  },
  {
   "cell_type": "code",
   "execution_count": null,
   "metadata": {
    "collapsed": false,
    "slideshow": {
     "slide_type": "subslide"
    }
   },
   "outputs": [],
   "source": [
    "using Vega\n",
    "\n",
    "function citibikenycmap(;lat = Any[], lon = Any[])\n",
    "    v = VegaVisualization(viewport = [500, 700])\n",
    "    add_data!(v, x = lat, y = lon)\n",
    "    v.data[1].name = \"points\"\n",
    "    v.data[1].transform = [VegaTransform({\"type\" => \"geo\", \"lat\" => \"data.x\", \"lon\" => \"data.y\", \"scale\" => 85000})]\n",
    "    push!(v.data, VegaData(name = \"nyc\", url = \"nyc_mh_bk.json\", \n",
    "    format = VegaFormat(_type = \"topojson\", feature = \"collection\")))\n",
    "\n",
    "    v.marks = Array(VegaMark, 2)\n",
    "    v.marks[1] = VegaMark(_type = \"path\", from = {\"data\" => \"nyc\", \"transform\" => [{\"type\" => \"geopath\", \"value\" => \"data\", \"scale\" => 85000}]},\n",
    "                            properties = VegaMarkProperties(enter = VegaMarkPropertySet(path = VegaValueRef(field = \"path\")),\n",
    "                                                            update = VegaMarkPropertySet(fill = VegaValueRef(value = \"darkblue\"))\n",
    "                                                            )\n",
    "                         )\n",
    "\n",
    "    v.marks[2] = VegaMark(_type = \"symbol\", \n",
    "                          from = {\"data\" => \"points\"},\n",
    "                          properties = VegaMarkProperties(enter = VegaMarkPropertySet(x = VegaValueRef(field = \"x\"), \n",
    "                                                                                      y = VegaValueRef(field = \"y\"),\n",
    "                                                                                        fill = VegaValueRef(value = \"red\")),\n",
    "                                                            update = VegaMarkPropertySet(stroke = VegaValueRef(value = \"black\"),\n",
    "                                                                                         size = VegaValueRef(value = 100),\n",
    "                                                                                         fill = VegaValueRef(value = \"red\")),\n",
    "                                                            hover = VegaMarkPropertySet(size = VegaValueRef(value = 200),\n",
    "                                                                                         fill = VegaValueRef(value = \"green\"))\n",
    "                                                            )\n",
    "    )\n",
    "\n",
    "    return v\n",
    "end"
   ]
  },
  {
   "cell_type": "code",
   "execution_count": null,
   "metadata": {
    "collapsed": false,
    "slideshow": {
     "slide_type": "subslide"
    }
   },
   "outputs": [],
   "source": [
    "citibikenycmap(lat = tbl[:lat], lon = tbl[:lon])"
   ]
  },
  {
   "cell_type": "markdown",
   "metadata": {
    "internals": {
     "frag_helper": "fragment_end",
     "frag_number": 31,
     "slide_helper": "subslide_end",
     "slide_type": "subslide"
    },
    "slide_helper": "slide_end",
    "slideshow": {
     "slide_type": "slide"
    }
   },
   "source": [
    "## End of Presentation"
   ]
  }
 ],
 "metadata": {
  "kernelspec": {
   "display_name": "Julia 0.3.10-pre",
   "language": "julia",
   "name": "julia-0.3"
  },
  "language_info": {
   "name": "julia",
   "version": "0.3.10"
  }
 },
 "nbformat": 4,
 "nbformat_minor": 0
}
